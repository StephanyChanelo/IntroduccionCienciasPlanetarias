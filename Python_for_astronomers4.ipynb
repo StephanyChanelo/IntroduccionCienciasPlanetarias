{
  "nbformat": 4,
  "nbformat_minor": 0,
  "metadata": {
    "colab": {
      "name": "Python_for_astronomers4.ipynb",
      "provenance": [],
      "collapsed_sections": [],
      "authorship_tag": "ABX9TyPW83C8FgMarSMwi9bf4sg1",
      "include_colab_link": true
    },
    "kernelspec": {
      "name": "python3",
      "display_name": "Python 3"
    }
  },
  "cells": [
    {
      "cell_type": "markdown",
      "metadata": {
        "id": "view-in-github",
        "colab_type": "text"
      },
      "source": [
        "<a href=\"https://colab.research.google.com/github/StephanyChanelo/IntroduccionCienciasPlanetarias/blob/main/Python_for_astronomers4.ipynb\" target=\"_parent\"><img src=\"https://colab.research.google.com/assets/colab-badge.svg\" alt=\"Open In Colab\"/></a>"
      ]
    },
    {
      "cell_type": "markdown",
      "metadata": {
        "id": "KBatjnSWNsks"
      },
      "source": [
        "# **INTRODUCCIÓN AL PROCESAMIENTO DIGITAL DE IMÁGENES APLICADO A LAS CIENCIAS PLANETARIAS**\n",
        "#ESCUELA NACIONAL DE ESTUDIOS SUPERIORES UNIDAD MORELIA\n",
        "\n",
        "La búsqueda de planetas que giran entorno a otras estrellas tiene como objetivo responder algunas de las más grandes interrogantes, ¿existen otros planetas?,\n",
        "¿existen planetas como la Tierra?, ¿hay planetas que puedan albergar vida?\n",
        "Por otra parte, encontrar planetas fuera del Sistema Solar (exoplanetas) es la misión de al menos cuatro satélites espaciales: Kepler, Corot, Most y Tess.\n",
        "\n",
        "Sin embargo, cualquier planeta es una fuente de luz muy débil en comparación con su estrella. Por lo que, además de la dificultad intrínseca de la detección de una fuente de luz, tenue, la luz de la estrella complica aún más esta tarea. Por estas razones, muy pocos de los exoplanetas reportados a partir de abril de 2014 han sido observados directamente. En general, se recurre a métodos indirectos para detectar planetas extrasolares, entre los cuales se encuentran:\n",
        "\n",
        "* **Velocidad radial:** El cual consiste en observar modulaciones del efecto Doppler en la estrella, lo que claramente\n",
        "indica que un objeto masivo orbita muy cerca alrededor de la misma.\n",
        "* **Microlentes gravitacionales:** Este método consiste en aprovechar la geometría del sistema planetario de estudio de tal manera que cuando un planeta pasa por enfrente de una estrella de fondo, este distorsiona el espacio y magnifica la luz proveniente de dicha estrella.\n"
      ]
    },
    {
      "cell_type": "markdown",
      "metadata": {
        "id": "YS-MhF9pyX0b"
      },
      "source": [
        "#**Tránsito planetario**\n",
        "\n",
        "Consiste en observar fotométricamente la estrella y detectar sutiles cambios en la intensidad de su luz cuando un planeta orbita por delante de ella; el planeta bloquea una fracción del disco de la estrella, haciendo que disminuya su brillo dependiendo del tamaño del mismo. Dado que el planeta orbita alrededor de la estrella, la variación en el brillo es periódica. Entonces al medir el tiempo de duración del tránsito, el período con que este evento ocurre y la disminución en el brillo de la estrella es posible determinar los parámetros del sistema estelar de estudio tales como el tamaño de la órbita, la temperatura y el tamaño relativo del planeta.\n",
        "\n",
        "![alt text](https://www.microsiervos.com/images/COROT-brightness.jpg)\n"
      ]
    },
    {
      "cell_type": "markdown",
      "metadata": {
        "id": "EartN-Gj8R0V"
      },
      "source": [
        "#**Imagen**\n",
        "Una imagen se define como una función de dos dimensiones f(x,y) donde x e y son las coordenadas de un plano que contiene todos los puntos de la misma, y f(x,y) es la amplitud en el punto (x,y) a la cual se le llama intensidad o nivel de gris de la imagen en ese punto. En el caso de que tanto las coordenadas x e y como los valores de intensidad de la función f sean discretos y finitos, se habla de una imagen digital.\n",
        "\n",
        "\n",
        "Una imagen digital está compuesta de un número finito de elementos y cada uno tiene una localidad y un valor particular. A estos elementos se les llama puntos elementales de la imagen o **píxeles**, siendo este último el término comúnmente utilizado para denotar la unidad mínima de medida de una imagen digital. \n",
        "\n",
        "![alt text](https://miro.medium.com/max/693/1*bV7S0zACdidh11ikjYpLpQ.png)\n",
        "\n",
        "\n",
        "**Imagen de color** \\\\\n",
        "El fundamento para describir una imagen digital en color es similar con la diferencia de que cada píxel es descrito y codificado de otraforma, según el espacio de color que se esté utilizando. Así por ejemplo, para un espacio de color\n",
        "RGB (generalmente el más usado para representar imágenes), se representa cada píxel como un\n",
        "color creado a partir de ciertas cantidades de los colores rojo, verde y azul. Esta\n",
        "representación se puede interpretar como una matriz de tres niveles de intensidad, donde cada\n",
        "nivel corresponde a la intensidad de color de las componentes rojo, verde y azul.\n",
        "\n",
        "\n",
        "\n",
        "![alt text](https://www.researchgate.net/profile/Bhupendra_Pratap_Singh/publication/282798184/figure/fig15/AS:283989639221249@1444719814399/Color-image-representation-and-RGB-matrix.png)\n",
        "\n",
        "\n"
      ]
    },
    {
      "cell_type": "markdown",
      "metadata": {
        "id": "jm4VcOPtzlEc"
      },
      "source": [
        "Carga de imágenes"
      ]
    },
    {
      "cell_type": "code",
      "metadata": {
        "colab": {
          "base_uri": "https://localhost:8080/"
        },
        "id": "5YdDfepwUWjC",
        "outputId": "b255224e-c3aa-4aeb-efa5-9cd384a6e2ea"
      },
      "source": [
        "!wget --load-cookies /tmp/cookies.txt \"https://docs.google.com/uc?export=download&confirm=$(wget --quiet --save-cookies /tmp/cookies.txt --keep-session-cookies --no-check-certificate 'https://docs.google.com/uc?export=download&id=1r_536WlCKAwxO3dNDiRfsFIhG087GPCf' -O- | sed -rn 's/.*confirm=([0-9A-Za-z_]+).*/\\1\\n/p')&id=1r_536WlCKAwxO3dNDiRfsFIhG087GPCf\" -O transito2021.zip && rm -rf /tmp/cookies.txt\n",
        "!unzip transito2021.zip"
      ],
      "execution_count": null,
      "outputs": [
        {
          "output_type": "stream",
          "name": "stdout",
          "text": [
            "--2022-05-23 20:58:37--  https://docs.google.com/uc?export=download&confirm=&id=1r_536WlCKAwxO3dNDiRfsFIhG087GPCf\n",
            "Resolving docs.google.com (docs.google.com)... 108.177.126.138, 108.177.126.100, 108.177.126.113, ...\n",
            "Connecting to docs.google.com (docs.google.com)|108.177.126.138|:443... connected.\n",
            "HTTP request sent, awaiting response... 303 See Other\n",
            "Location: https://doc-0o-3o-docs.googleusercontent.com/docs/securesc/ha0ro937gcuc7l7deffksulhg5h7mbp1/jt20d5jjdpiglfqisnhk162m5d8ocrmj/1653339450000/18020599704410039587/*/1r_536WlCKAwxO3dNDiRfsFIhG087GPCf?e=download [following]\n",
            "Warning: wildcards not supported in HTTP.\n",
            "--2022-05-23 20:58:38--  https://doc-0o-3o-docs.googleusercontent.com/docs/securesc/ha0ro937gcuc7l7deffksulhg5h7mbp1/jt20d5jjdpiglfqisnhk162m5d8ocrmj/1653339450000/18020599704410039587/*/1r_536WlCKAwxO3dNDiRfsFIhG087GPCf?e=download\n",
            "Resolving doc-0o-3o-docs.googleusercontent.com (doc-0o-3o-docs.googleusercontent.com)... 108.177.126.132, 2a00:1450:4013:c01::84\n",
            "Connecting to doc-0o-3o-docs.googleusercontent.com (doc-0o-3o-docs.googleusercontent.com)|108.177.126.132|:443... connected.\n",
            "HTTP request sent, awaiting response... 200 OK\n",
            "Length: 1359416 (1.3M) [application/x-zip-compressed]\n",
            "Saving to: ‘transito2021.zip’\n",
            "\n",
            "transito2021.zip    100%[===================>]   1.30M  --.-KB/s    in 0.009s  \n",
            "\n",
            "2022-05-23 20:58:39 (152 MB/s) - ‘transito2021.zip’ saved [1359416/1359416]\n",
            "\n",
            "Archive:  transito2021.zip\n",
            "replace transito/42.gif? [y]es, [n]o, [A]ll, [N]one, [r]ename: "
          ]
        }
      ]
    },
    {
      "cell_type": "code",
      "metadata": {
        "id": "_7pRmTUStg8I"
      },
      "source": [
        "#CARGA DE IMÁGENES DESDE PC\n",
        "#from google.colab import files\n",
        "#uploaded = files.upload()"
      ],
      "execution_count": null,
      "outputs": []
    },
    {
      "cell_type": "code",
      "metadata": {
        "id": "IEMkgrQ_dIv-"
      },
      "source": [
        "# importamos el modulo pyplot, y lo llamamos plt\n",
        "import matplotlib.pyplot as plt\n",
        "from skimage import io"
      ],
      "execution_count": null,
      "outputs": []
    },
    {
      "cell_type": "markdown",
      "metadata": {
        "id": "glohuExkxd-j"
      },
      "source": [
        "Método de procesamiento\n",
        "\n",
        "1. Extraer información general.\n",
        "2. Escalar la imagen (normalización).\n",
        "3. Recortar imagen en zona de interés\n",
        "4. Procesamiento para extracción de características.\n",
        "5. Comprobación (en caso de que sea posible)."
      ]
    },
    {
      "cell_type": "code",
      "metadata": {
        "id": "cGnDg3LYvMzX"
      },
      "source": [
        "from PIL import Image\n",
        "\n",
        "#Open the image\n",
        "image = Image.open('transito/20.gif')\n",
        "image0 = Image.open('transito/4.gif')\n",
        "plt.imshow(image) \n",
        "\n",
        "#INFORMATION OF THE ORIGINAL IMAGE\n",
        "# The file format of the source file.\n",
        "print(\"Formato:\", image.format)\n",
        "\n",
        "# Image size, in pixels. The size is given as a 2-tuple (width, height).\n",
        "print(\"Dimensiones de la imagen:\", image.size) "
      ],
      "execution_count": null,
      "outputs": []
    },
    {
      "cell_type": "code",
      "metadata": {
        "id": "eGVw0RCTwQ8D"
      },
      "source": [
        "new_image = image.resize((256, 256))\n",
        "new_image0 = image0.resize((256, 256))\n",
        "print(\"Dimensiones de la imagen:\", new_image.size) # Output: (256, 256))"
      ],
      "execution_count": null,
      "outputs": []
    },
    {
      "cell_type": "code",
      "metadata": {
        "id": "JDE-4nncw34E"
      },
      "source": [
        "#Box to crop the image [x0, y0, x_c, y_c]\n",
        "box = (40, 0, 200, 160)                 \n",
        "cropped_image = new_image.crop(box)\n",
        "cropped_image0 = new_image0.crop(box)\n",
        "plt.imshow(cropped_image) \n",
        "print(cropped_image.size) "
      ],
      "execution_count": null,
      "outputs": []
    },
    {
      "cell_type": "markdown",
      "metadata": {
        "id": "wNpdNIch5F2m"
      },
      "source": [
        "Binarización de la imagen\n",
        "\n",
        "Se refiere al proceso de convertir la imagen en color a blanco y negro.\n",
        "Es una técnica que consiste en la realización de\n",
        "un barrido en la matriz de la imagen digital con el fin de que el proceso produzca la reducción de la escala de grises a dos únicos valores. Negro\n",
        "(= 0) y blanco (= 255), o lo que es lo mismo, un sistema binario de ausencia y presencia de color 0-1. La comparación de cada píxel de la imagen viene determinada por el umbral de sensibilidad (valor T = Threshold). Por ejemplo, los valores que sean mayores que el umbral toman un valor 255 (blanco) y los menores 0 (negro).\n",
        "\n",
        "![ec1.JPG](data:image/jpeg;base64,/9j/4AAQSkZJRgABAQEAYABgAAD/4QBsRXhpZgAASUkqAAgAAAADADEBAgAHAAAAMgAAABICAwACAAAAAgACAGmHBAABAAAAOgAAAAAAAABHb29nbGUAAAMAAJAHAAQAAAAwMjIwAqAEAAEAAADmAAAAA6AEAAEAAABMAAAAAAAAAP/bAEMACAYGBwYFCAcHBwkJCAoMFA0MCwsMGRITDxQdGh8eHRocHCAkLicgIiwjHBwoNyksMDE0NDQfJzk9ODI8LjM0Mv/bAEMBCQkJDAsMGA0NGDIhHCEyMjIyMjIyMjIyMjIyMjIyMjIyMjIyMjIyMjIyMjIyMjIyMjIyMjIyMjIyMjIyMjIyMv/AABEIAEwA5gMBIgACEQEDEQH/xAAfAAABBQEBAQEBAQAAAAAAAAAAAQIDBAUGBwgJCgv/xAC1EAACAQMDAgQDBQUEBAAAAX0BAgMABBEFEiExQQYTUWEHInEUMoGRoQgjQrHBFVLR8CQzYnKCCQoWFxgZGiUmJygpKjQ1Njc4OTpDREVGR0hJSlNUVVZXWFlaY2RlZmdoaWpzdHV2d3h5eoOEhYaHiImKkpOUlZaXmJmaoqOkpaanqKmqsrO0tba3uLm6wsPExcbHyMnK0tPU1dbX2Nna4eLj5OXm5+jp6vHy8/T19vf4+fr/xAAfAQADAQEBAQEBAQEBAAAAAAAAAQIDBAUGBwgJCgv/xAC1EQACAQIEBAMEBwUEBAABAncAAQIDEQQFITEGEkFRB2FxEyIygQgUQpGhscEJIzNS8BVictEKFiQ04SXxFxgZGiYnKCkqNTY3ODk6Q0RFRkdISUpTVFVWV1hZWmNkZWZnaGlqc3R1dnd4eXqCg4SFhoeIiYqSk5SVlpeYmZqio6Slpqeoqaqys7S1tre4ubrCw8TFxsfIycrS09TV1tfY2dri4+Tl5ufo6ery8/T19vf4+fr/2gAMAwEAAhEDEQA/APf6KKKACiiigAooooAKKKKACiiigAooqOe4htYWmuJY4YkGWeRgqr9SaAJKKzdY1/SvD8Ec2q30NqkriOMOfmkYnGFUck89hWlQAUUVUutUsrK9srO4nVLm9dkt48EmQqpZsY9ACaALdFISACSQAOpNUdL1e01mF57EySWwbak5QqkvuhP3l/2hwexNAF+iiigAooqhDrFpNqsullnivY13iKVCvmJ03oejLkgHHTIzjIoAv0UhIAJJAA6k0tABRRWLq3izRtEvGtL64mWdLc3TpFayzbIQSC7FFIVcg8nHSgDaorE0vxbo2s30dlZTztcSW32uNZbSaLfDkDepdQCMsOR61t0AFFFFABRRVG/1rS9KZF1DUbS0ZwSonmVCQOp5PQdzQBeornPEPiZbLQra50iS3u7nUbmOzsGDbomlckbiR1VQGY4/ukVd+02nhvSkfWdaXBcBru+lSMO57Doo9gKANaiqw1GybUTpy3cBvVi8424kHmBM43FeuMnGafdXdvY2sl1dzxW9vEN0ksrhVUepJ4FAE1FUH1zSY7K2vX1SyS1umVbedp1CSlugVs4JPbFY8eoXeieL7XR7u5e6stUjleyklxviljG5oiRjcpUllJ5G1gSeMAHT0UdBk0zzov8Anqn/AH0KAH1xV666v8WrXSroCSz03S/t6QtypneXYHI7lVU49C2a7RWVxlWDD2Oa4bUY2s/jZot0nIv9HuLWQDsI3WQH82xQAz4r2Vr/AMIhNefZovtRurOMzbBv2i4TAz1xyfzrva5/xV4Ui8WWS2V1quoWtqGR2itDEAzK25SS0bHggdCBxWzaQSW1skUt3NduvWaYIGb67FVfyFAHD65qmrr4su9JuNXutEiu1jj0O6jt45IJZSvzLIWU/PuyApK5A45rUS/v5vii2mx3jtp9ppKzzwlEx5zyFUOdu4HarHGcdKmHg6KRrdLvVtRvLW3vPt0VvO0ZAlDl1ywQMVVjkDPYDkDFWo/DNvD4qutfjvLxJbpIlmt1cCJzGGCE8buA54zjuRkCgDM+JlxLD4HuoIXaNr2aCzZ1OCqSyqj/APjpYfjW/fWMraT9j0+8OmBVCLLFGrGNAOihsqO3UHj8xU8WaEfEnhi+0pZRDNKoaGUjhJUYOjH2DKPwqmLZ/Fthbx6muo6dJbttvrBfkjnJHKFsfvIz6qeQcHuKAMrwDqeveKtI0zW73Ukit4kaCS3hRGF3Iu5HkdsfKNwyqrjpk9QB21yk0ltKlvKIZmUhJCm7Yexx3x6VzL+E5NL0/Xf7FvLrz9QE7wW8kwSG3ll+867VyPm+bnOOduMnOmjnwz4Vthcm91FrK3ihkeGJpppiAqltoySSeT170AcYNc8QDRdf0RNUkbxBb6wthYXLRR72SQJIjMu3acRlycKOENbHj4tYWnh/VEctdWWrWyCTADOkjeVIvH95W6eoHpU/h/QfO8Sah4tvLWS2ub0KlvbSn5oo1ULvYdBIwAz6AAdc0a3aT+Jte0ywS3mTTdNvFvbu4lQoskkeTHGmfvfMQxYcDbjOTwAdTLFHPC8MqK8cilXRhkMDwQRXE6ppcPgu1+2aV4lXSLUHC2OouZ7Vz/dQE70PsjY/2TXbTI0sEkaSNEzKVEi4ypI6jPGRWJpPhDSNKuvt3lSXmpEYa/vpDNOfozfdHsoA9qAHeFNbvdf0c3d/pUunSiQoqvuxKoAxIoZVYKc8BlB4rE+JyJD4N1FLWNE1DWDBpiyAfM/mSbQpPcAO5x7mu3rE1/wzB4hn0yW4vryAaddLeRJAUCvIv3S25TkDJ4GOv0oA0LfTbO1khkigRZIYBbo+ORGMfL9OBVuiigAooooAK8evPEtvptv8Rry7Il17zpbWC2P31tliURNjtHlmbPQk45JAPrd1AbmzngWWSEyxsgkjOGTIxkH1HWuWTwhf3Ok6do2qapBPptn5PmLDbMkl0IsFBIxdsDKgsAOfUUAY+r6V/wAI/onw+RlxBpd/bQ3B7KWiaLcf+BsP++q3fGdxp13Yz+HmiS61bUbWSG1tsfNtcbWfdj5VHUn27nAPQ39ha6pYT2N7As9tOhSSNujA/wCetN06xOn2i27XdxdbOFluCGfb2BYAZx6nk9yTzQBxvw81PRx4JTUiwa/t7XzNVmZS0qygfvFZsdR5f3OyheMYrsbO5stb0u0voQs9pcxx3MBdOoIDI2D0PQ+op2oafb6np1xYXIb7PcIY5VRipZT1GRyMjIP1qrqWn376dBaaJfw6WYmUbjaiVREARsVcgDtg9sdDQB5/4O01r8p4akhb+z/DesXEzsy8ORIzW6D1wH3n02oO9dF4pBuvHfgy0i5liuLi8kx/BGsJUk+xaRR+NdLpWl2+j2C2lvvYZLySyHLyuxyzse7E8n/CodP0O3sdQudQeWa6v7gBHuJyCwQEkRqAAFUZPAHJ5OTzQBdu4zNZzxCKOUvGy+XKcI+R0bg8Hvwa84/4Qif/AKJ34H/8CW/+Rq9NooAwvCmlPpGly276LpWklpi/kaY5aNvlUbiSifNxjp0A5rHkI034t2ouHN0dV0+VbZpPvWnlFCyLjA2tkHJG7K9SMAdrXCOjXfx1j8z/AFdj4fLxj/bknIJ/JcUAdRqfiHTNImSG7mk8542lEUMEkz7F6uVRSQoz1IxVyyvbbUbKG8s50ntp0DxyxnKsp6EGuO0J2l+L/i7zuWhsrGODPZCJGbHtuNJ8JgyeCmiH+oi1C7SD0EYmbGPbOaAO5qpdapZWV7ZWdxOqXN67Jbx4JMhVSzYx6AE1xeuapq6+LLvSbjV7rRIrtY49Duo7eOSCWUr8yyFlPz7sgKSuQOOa1Ev7+b4otpsd47afaaSs88JRMec8hVDnbuB2qxxnHSgDqiQASSAB1Jqjper2mswvPYmSS2DbUnKFUl90J+8v+0OD2JrA+JlxLD4HuoIXaNr2aCzZ1OCqSyqj/wDjpYfjW/fWMraT9j0+8OmBVCLLFGrGNAOihsqO3UHj8wAX6K4TwDqeveKtI0zW73Ukit4kaCS3hRGF3Iu5HkdsfKNwyqrjpk9QB21yk0ltKlvKIZmUhJCm7Yexx3x6UAS1Qh1i0m1WXSyzxXsa7xFKhXzE6b0PRlyQDjpkZxkVwY1zxANF1/RE1SRvEFvrC2FhctFHvZJAkiMy7dpxGXJwo4Q1sePi1haeH9URy11ZatbIJMAM6SN5Ui8f3lbp6gelAHZ0VHP532eT7OEM20+X5mdu7HGcc4zXmMst4zsPiNNq0EGeVsQU00j/AGniJkx/11IHtQB6ZBd210ZRb3EUxhfy5BG4bY2Adpx0OCOPesvVvFmjaJeNaX1xMs6W5unSK1lm2QgkF2KKQq5B5OOlT6BFokOkxr4eWxXTzyn2Hb5ZPrleCfeub+JyJD4N1FLWNE1DWDBpiyAfM/mSbQpPcAO5x7mgDc0vxbo2s30dlZTztcSW32uNZbSaLfDkDepdQCMsOR61t1Ut9Ns7WSGSKBFkhgFuj45EYx8v04FW6ACiiigAooooAKKKKACiiigAooooAKKKKACub1bRryLxRZ+JdMjSa4jt2srq2d9pmgLBgVY8BlYZGeCCRkV0lFAGFqPhiG91oaxa395p1+bf7LJNalP3secgMHVhkHJBAyM+nFaGkaTZ6HpNtplhH5drbpsRScn1JJ7kkkk9yau0UAc0PB0UjW6XerajeWtvefboredoyBKHLrlggYqrHIGewHIGKtR+GbeHxVda/HeXiS3SRLNbq4ETmMMEJ43cBzxnHcjIFbdFAGL4s0I+JPDF9pSyiGaVQ0MpHCSowdGPsGUfhVMWz+LbC3j1NdR06S3bbfWC/JHOSOULY/eRn1U8g4PcV01FAHKP4Tk0vT9d/sW8uvP1ATvBbyTBIbeWX7zrtXI+b5uc4524yc6aOfDPhW2Fyb3UWsreKGR4YmmmmICqW2jJJJ5PXvWxRQByfh/QfO8Sah4tvLWS2ub0KlvbSn5oo1ULvYdBIwAz6AAdc0a3aT+Jte0ywS3mTTdNvFvbu4lQoskkeTHGmfvfMQxYcDbjOTx1lFADJRI0LiJ1SQqQjMu4KexIyM/TNc1/ZnjX/oZ9I/8ABK//AMkV1FFAGP4d0e40e0uEupNPkmnnMzPY2P2VWJUDLLvbLcfez6elM1/wzB4hn0yW4vryAaddLeRJAUCvIv3S25TkDJ4GOv0rbooAKKKKACiiigAooooAKKKKACiiigAooooAKKKKACiiigAooooAKKKKACiiigAooooAKKKKACiiigAooooAKKKKACiiigD/2Q==)\n",
        "\n",
        "![bimodal.JPG](data:image/jpeg;base64,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)\n",
        "\n",
        "Esta técnica de umbralización supone que la imagen posee un histograma bimodal, y por lo tanto, el objeto puede ser extraído del resto de la imagen mediante una simple operación que compare los valores de la imagen con el valor umbral T.\n",
        "El resultado es una imagen binaria, donde los píxeles con valores de intensidad igual a 1 corresponden al objeto deseado; mientras que los píxeles con valor 0, corresponder al resto de la imagen.\n",
        "\n",
        "\n",
        "![b1.png](data:image/png;base64,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)"
      ]
    },
    {
      "cell_type": "code",
      "metadata": {
        "id": "6iaIBk_P1BP-"
      },
      "source": [
        "import cv2\n",
        "import numpy as np\n",
        "from matplotlib import pyplot as plt\n",
        "\n",
        "a = np.asarray(cropped_image,dtype=np.float32)\n",
        "a0 = np.asarray(cropped_image0,dtype=np.float32)\n",
        "\n",
        "ret0,thresh0 = cv2.threshold(a0,160,160,cv2.THRESH_BINARY)\n",
        "ret,thresh1 = cv2.threshold(a,160,160,cv2.THRESH_BINARY)\n",
        "plt.imshow(thresh1,'gray')"
      ],
      "execution_count": null,
      "outputs": []
    },
    {
      "cell_type": "markdown",
      "metadata": {
        "id": "BhREMJCR787T"
      },
      "source": [
        "Extracción de información\n",
        "\n",
        "A partir del proceso de binarización es posible obtener las matrices correspondientes a la imagen y extraer la información de interés. En este caso construiremos la curva de intensidad de luz durante el tránsito de un planeta.\n"
      ]
    },
    {
      "cell_type": "code",
      "metadata": {
        "id": "Rx8eYDFd3F6t"
      },
      "source": [
        "#Intensity/Luminosity values\n",
        "n=np.sum(thresh1)\n",
        "n"
      ],
      "execution_count": null,
      "outputs": []
    },
    {
      "cell_type": "markdown",
      "metadata": {
        "id": "bpLpyMo7H2lL"
      },
      "source": [
        "Ciclo para la determinación de la curva de luminosidad"
      ]
    },
    {
      "cell_type": "code",
      "metadata": {
        "id": "xK-XW9LOER3v"
      },
      "source": [
        "curva=[]\n",
        "for i in range(45):\n",
        "  dir=\"/content/transito/\"+str(i)+'.gif'\n",
        "\n",
        "  img = Image.open(dir)\n",
        "  new_image = img.resize((256, 256))\n",
        "  box = (40, 0, 200, 160)                 \n",
        "  cropped_image = new_image.crop(box)\n",
        "  a = np.asarray(cropped_image,dtype=np.float32)\n",
        "  ret,thresh = cv2.threshold(a,160,160,cv2.THRESH_BINARY_INV)\n",
        "  n=np.sum(thresh)\n",
        "  curva=np.append(curva, n)\n",
        "\n",
        "curva"
      ],
      "execution_count": null,
      "outputs": []
    },
    {
      "cell_type": "code",
      "metadata": {
        "id": "hZ8SP-ONHaKt"
      },
      "source": [
        "plt.plot(curva)\n",
        "plt.suptitle('LUMINOSITY CURVE')\n",
        "plt.ylabel('Intensity')\n",
        "plt.xlabel('Time')\n",
        "plt.show()"
      ],
      "execution_count": null,
      "outputs": []
    },
    {
      "cell_type": "markdown",
      "metadata": {
        "id": "3bflNRtBM_L4"
      },
      "source": [
        "El método de fotométrica puede determinar el radio del planeta. Si un planeta cruza delante del disco de su estrella, a continuación, el brillo visual observado de la estrella cae por una pequeña cantidad, dependiendo de los tamaños relativos de la estrella y el planeta. Un tránsito teórica exoplaneta modelo de curva de luz predice las siguientes características de un sistema planetario observada: profundidad de tránsito (delta), la duración de tránsito (T), la entrada / salida duración (τ), y el período del exoplaneta (P). Sin embargo, estas cantidades observadas se basan en varios supuestos. \n",
        "\n",
        "Por conveniencia en los cálculos, se supone que el planeta y la estrella son esféricas, el disco estelar es uniforme, y la órbita es circular.\n",
        "\n",
        "![tc.jpg](data:image/jpeg;base64,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)\n",
        "\n",
        "* La profundidad de tránsito (δ) de una curva de luz en tránsito describe la disminución en el flujo normalizado de la estrella durante un tránsito. Esto detalla el radio de un exoplaneta en comparación con el radio de la estrella.\n",
        "\n",
        "* La duración de tránsito (T) de un exoplaneta, este parámetro observado cambios con respecto a qué tan rápido o lento un planeta se mueve en su órbita, ya que transita la estrella. \n",
        "\n",
        "* La duración de ingreso / egreso (τ) de una curva de luz en tránsito describe la longitud de tiempo que el planeta necesita para cubrir la totalidad de la estrella."
      ]
    },
    {
      "cell_type": "markdown",
      "metadata": {
        "id": "aMm2P95GSK_a"
      },
      "source": [
        "**Ejercicios**\n",
        "1. Determinar la masa del planeta a partir de los valores, asumiento la densidad para un planeta similar a Júpiter ($\\rho = 1.5 g/cm^3$): \n",
        "\n",
        "$F_{Notransito}=$\n",
        "\n",
        "$F_{Transito}=$\n",
        "\n",
        "$$ \\frac{F_{No transito}-F_{Transito}}{F_{No transito}} = \\frac{\\pi R_p^2}{\\pi R_{*}^2}$$\n",
        "\n",
        "2. Calcular la órbita del planeta, asumiendo la masa de Rigel (18 M☉) y un período de 512 días terrestres. **Hint: Tercera Ley de Kepler.**"
      ]
    }
  ]
}